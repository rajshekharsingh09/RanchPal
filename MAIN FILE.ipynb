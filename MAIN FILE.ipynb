{
 "cells": [
  {
   "cell_type": "code",
   "execution_count": 1,
   "metadata": {},
   "outputs": [],
   "source": [
    "import pandas as pd\n",
    "import numpy as np\n",
    "import sweetviz\n",
    "from sklearn.model_selection import train_test_split\n",
    "import matplotlib.pyplot as plt\n",
    "import seaborn as sns"
   ]
  },
  {
   "cell_type": "code",
   "execution_count": 2,
   "metadata": {},
   "outputs": [],
   "source": [
    "# reading all the data\n",
    "df1=pd.read_csv('E1_train.csv')\n",
    "df2=pd.read_csv('D2_train.csv')\n",
    "df3=pd.read_csv('W3_train.csv')\n",
    "df4=pd.read_csv('S4_train.csv')\n",
    "df5=pd.read_csv('L5_train.csv')\n",
    "df6=pd.read_csv('RS6_train.csv')\n",
    "df7=pd.read_csv('RL7_train.csv')\n",
    "df8=pd.read_csv('G8_train.csv')\n",
    "df9=pd.read_csv('I9_train.csv')\n"
   ]
  },
  {
   "cell_type": "code",
   "execution_count": 3,
   "metadata": {},
   "outputs": [
    {
     "data": {
      "text/plain": [
       "Index(['time', 'acc_x', 'acc_y', 'acc_z', 'gyr_x', 'gyr_y', 'gyr_z', 'mag_x',\n",
       "       'mag_y', 'mag_z', 'label'],\n",
       "      dtype='object')"
      ]
     },
     "execution_count": 3,
     "metadata": {},
     "output_type": "execute_result"
    }
   ],
   "source": [
    "# checking out the columns\n",
    "df1.columns"
   ]
  },
  {
   "cell_type": "markdown",
   "metadata": {},
   "source": [
    "# Splitting up data into train and test for better accuracy and prevention of data leakage"
   ]
  },
  {
   "cell_type": "code",
   "execution_count": 4,
   "metadata": {},
   "outputs": [],
   "source": [
    "# splitting up  data before hand in order to make sure that test data is not leaked into training\n",
    "df1_X=df1[['time', 'acc_x', 'acc_y', 'acc_z', 'gyr_x', 'gyr_y', 'gyr_z', 'mag_x', 'mag_y', 'mag_z']]\n",
    "df1_y=df1[['label']]\n",
    "\n",
    "df2_X=df2[['time', 'acc_x', 'acc_y', 'acc_z', 'gyr_x', 'gyr_y', 'gyr_z', 'mag_x', 'mag_y', 'mag_z']]\n",
    "df2_y=df2[['label']]\n",
    "\n",
    "df3_X=df3[['time', 'acc_x', 'acc_y', 'acc_z', 'gyr_x', 'gyr_y', 'gyr_z', 'mag_x', 'mag_y', 'mag_z']]\n",
    "df3_y=df3[['label']]\n",
    "\n",
    "df4_X=df4[['time', 'acc_x', 'acc_y', 'acc_z', 'gyr_x', 'gyr_y', 'gyr_z', 'mag_x', 'mag_y', 'mag_z']]\n",
    "df4_y=df4[['label']]\n",
    "\n",
    "df5_X=df5[['time', 'acc_x', 'acc_y', 'acc_z', 'gyr_x', 'gyr_y', 'gyr_z', 'mag_x', 'mag_y', 'mag_z']]\n",
    "df5_y=df5[['label']]\n",
    "\n",
    "df6_X=df6[['time', 'acc_x', 'acc_y', 'acc_z', 'gyr_x', 'gyr_y', 'gyr_z', 'mag_x', 'mag_y', 'mag_z']]\n",
    "df6_y=df6[['label']]\n",
    "\n",
    "df7_X=df7[['time', 'acc_x', 'acc_y', 'acc_z', 'gyr_x', 'gyr_y', 'gyr_z', 'mag_x', 'mag_y', 'mag_z']]\n",
    "df7_y=df7[['label']]\n",
    "\n",
    "df8_X=df8[['time', 'acc_x', 'acc_y', 'acc_z', 'gyr_x', 'gyr_y', 'gyr_z', 'mag_x', 'mag_y', 'mag_z']]\n",
    "df8_y=df8[['label']]\n",
    "\n",
    "df9_X=df9[['time', 'acc_x', 'acc_y', 'acc_z', 'gyr_x', 'gyr_y', 'gyr_z', 'mag_x', 'mag_y', 'mag_z']]\n",
    "df9_y=df9[['label']]"
   ]
  },
  {
   "cell_type": "code",
   "execution_count": 5,
   "metadata": {},
   "outputs": [],
   "source": [
    "df1_X_train, df1_X_test, df1_y_train, df1_y_test = train_test_split(  df1_X, df1_y, test_size=0.2, random_state=42,shuffle=True)\n",
    "\n",
    "df2_X_train, df2_X_test, df2_y_train, df2_y_test = train_test_split(  df2_X, df2_y, test_size=0.2, random_state=42,shuffle=True)\n",
    "\n",
    "df3_X_train, df3_X_test, df3_y_train, df3_y_test = train_test_split(  df3_X, df3_y, test_size=0.2, random_state=42,shuffle=True)\n",
    "\n",
    "df4_X_train, df4_X_test, df4_y_train, df4_y_test = train_test_split(  df4_X, df4_y, test_size=0.2, random_state=42,shuffle=True)\n",
    "\n",
    "df5_X_train, df5_X_test, df5_y_train, df5_y_test = train_test_split(  df5_X, df5_y, test_size=0.2, random_state=42,shuffle=True)\n",
    "\n",
    "df6_X_train, df6_X_test, df6_y_train, df6_y_test = train_test_split(  df6_X, df6_y, test_size=0.2, random_state=42,shuffle=True)\n",
    "\n",
    "df7_X_train, df7_X_test, df7_y_train, df7_y_test = train_test_split(  df7_X, df7_y, test_size=0.2, random_state=42,shuffle=True)\n",
    "\n",
    "df8_X_train, df8_X_test, df8_y_train, df8_y_test = train_test_split(  df8_X, df8_y, test_size=0.2, random_state=42,shuffle=True)\n",
    "\n",
    "df9_X_train, df9_X_test, df9_y_train, df9_y_test = train_test_split(  df9_X, df9_y, test_size=0.2, random_state=42,shuffle=True)"
   ]
  },
  {
   "cell_type": "markdown",
   "metadata": {},
   "source": [
    "# Data for Training"
   ]
  },
  {
   "cell_type": "code",
   "execution_count": 6,
   "metadata": {},
   "outputs": [
    {
     "name": "stdout",
     "output_type": "stream",
     "text": [
      "(9810815, 10)\n",
      "(9810815, 1)\n"
     ]
    }
   ],
   "source": [
    "Xtrain=df1_X_train\n",
    "Xtrain=Xtrain.append(df2_X_train)\n",
    "Xtrain=Xtrain.append(df3_X_train)\n",
    "Xtrain=Xtrain.append(df4_X_train)\n",
    "Xtrain=Xtrain.append(df5_X_train)\n",
    "Xtrain=Xtrain.append(df6_X_train)\n",
    "Xtrain=Xtrain.append(df7_X_train)\n",
    "Xtrain=Xtrain.append(df8_X_train)\n",
    "Xtrain=Xtrain.append(df9_X_train)\n",
    "print(Xtrain.shape)\n",
    "\n",
    "ytrain=df1_y_train\n",
    "ytrain=ytrain.append(df2_y_train)\n",
    "ytrain=ytrain.append(df3_y_train)\n",
    "ytrain=ytrain.append(df4_y_train)\n",
    "ytrain=ytrain.append(df5_y_train)\n",
    "ytrain=ytrain.append(df6_y_train)\n",
    "ytrain=ytrain.append(df7_y_train)\n",
    "ytrain=ytrain.append(df8_y_train)\n",
    "ytrain=ytrain.append(df9_y_train)\n",
    "print(ytrain.shape)"
   ]
  },
  {
   "cell_type": "code",
   "execution_count": 7,
   "metadata": {},
   "outputs": [
    {
     "data": {
      "text/html": [
       "<div>\n",
       "<style scoped>\n",
       "    .dataframe tbody tr th:only-of-type {\n",
       "        vertical-align: middle;\n",
       "    }\n",
       "\n",
       "    .dataframe tbody tr th {\n",
       "        vertical-align: top;\n",
       "    }\n",
       "\n",
       "    .dataframe thead th {\n",
       "        text-align: right;\n",
       "    }\n",
       "</style>\n",
       "<table border=\"1\" class=\"dataframe\">\n",
       "  <thead>\n",
       "    <tr style=\"text-align: right;\">\n",
       "      <th></th>\n",
       "      <th>time</th>\n",
       "      <th>acc_x</th>\n",
       "      <th>acc_y</th>\n",
       "      <th>acc_z</th>\n",
       "      <th>gyr_x</th>\n",
       "      <th>gyr_y</th>\n",
       "      <th>gyr_z</th>\n",
       "      <th>mag_x</th>\n",
       "      <th>mag_y</th>\n",
       "      <th>mag_z</th>\n",
       "      <th>label</th>\n",
       "    </tr>\n",
       "  </thead>\n",
       "  <tbody>\n",
       "    <tr>\n",
       "      <th>586192</th>\n",
       "      <td>1628094674</td>\n",
       "      <td>-0.089355</td>\n",
       "      <td>0.888184</td>\n",
       "      <td>0.188477</td>\n",
       "      <td>-5.859375</td>\n",
       "      <td>-9.277344</td>\n",
       "      <td>-3.906250</td>\n",
       "      <td>-246.0</td>\n",
       "      <td>900.0</td>\n",
       "      <td>-576.0</td>\n",
       "      <td>1</td>\n",
       "    </tr>\n",
       "    <tr>\n",
       "      <th>702457</th>\n",
       "      <td>1628098328</td>\n",
       "      <td>-0.274414</td>\n",
       "      <td>0.970215</td>\n",
       "      <td>0.092285</td>\n",
       "      <td>-11.047363</td>\n",
       "      <td>-3.784180</td>\n",
       "      <td>-10.131836</td>\n",
       "      <td>-202.5</td>\n",
       "      <td>862.5</td>\n",
       "      <td>-541.5</td>\n",
       "      <td>1</td>\n",
       "    </tr>\n",
       "    <tr>\n",
       "      <th>2802388</th>\n",
       "      <td>1628087467</td>\n",
       "      <td>-0.391113</td>\n",
       "      <td>0.875000</td>\n",
       "      <td>0.241211</td>\n",
       "      <td>1.098633</td>\n",
       "      <td>-6.286621</td>\n",
       "      <td>-4.028320</td>\n",
       "      <td>-318.0</td>\n",
       "      <td>910.5</td>\n",
       "      <td>478.5</td>\n",
       "      <td>1</td>\n",
       "    </tr>\n",
       "    <tr>\n",
       "      <th>2650932</th>\n",
       "      <td>1628395029</td>\n",
       "      <td>-0.324707</td>\n",
       "      <td>0.926270</td>\n",
       "      <td>0.201660</td>\n",
       "      <td>-4.394531</td>\n",
       "      <td>3.356934</td>\n",
       "      <td>-8.300781</td>\n",
       "      <td>-145.5</td>\n",
       "      <td>99.0</td>\n",
       "      <td>582.0</td>\n",
       "      <td>1</td>\n",
       "    </tr>\n",
       "    <tr>\n",
       "      <th>1044824</th>\n",
       "      <td>1628318125</td>\n",
       "      <td>-0.315430</td>\n",
       "      <td>-0.934082</td>\n",
       "      <td>0.322754</td>\n",
       "      <td>-7.202148</td>\n",
       "      <td>-22.216797</td>\n",
       "      <td>-12.878418</td>\n",
       "      <td>-273.0</td>\n",
       "      <td>-81.0</td>\n",
       "      <td>-508.5</td>\n",
       "      <td>1</td>\n",
       "    </tr>\n",
       "  </tbody>\n",
       "</table>\n",
       "</div>"
      ],
      "text/plain": [
       "               time     acc_x     acc_y     acc_z      gyr_x      gyr_y  \\\n",
       "586192   1628094674 -0.089355  0.888184  0.188477  -5.859375  -9.277344   \n",
       "702457   1628098328 -0.274414  0.970215  0.092285 -11.047363  -3.784180   \n",
       "2802388  1628087467 -0.391113  0.875000  0.241211   1.098633  -6.286621   \n",
       "2650932  1628395029 -0.324707  0.926270  0.201660  -4.394531   3.356934   \n",
       "1044824  1628318125 -0.315430 -0.934082  0.322754  -7.202148 -22.216797   \n",
       "\n",
       "             gyr_z  mag_x  mag_y  mag_z  label  \n",
       "586192   -3.906250 -246.0  900.0 -576.0      1  \n",
       "702457  -10.131836 -202.5  862.5 -541.5      1  \n",
       "2802388  -4.028320 -318.0  910.5  478.5      1  \n",
       "2650932  -8.300781 -145.5   99.0  582.0      1  \n",
       "1044824 -12.878418 -273.0  -81.0 -508.5      1  "
      ]
     },
     "execution_count": 7,
     "metadata": {},
     "output_type": "execute_result"
    }
   ],
   "source": [
    "# train is our traing data here.\n",
    "train=Xtrain\n",
    "train['label']=ytrain\n",
    "train.head()"
   ]
  },
  {
   "cell_type": "markdown",
   "metadata": {},
   "source": [
    "## Data for Testing"
   ]
  },
  {
   "cell_type": "code",
   "execution_count": 8,
   "metadata": {},
   "outputs": [
    {
     "name": "stdout",
     "output_type": "stream",
     "text": [
      "(2452709, 10)\n",
      "(2452709, 1)\n"
     ]
    }
   ],
   "source": [
    "Xtest=df1_X_test\n",
    "Xtest=Xtest.append(df2_X_test)\n",
    "Xtest=Xtest.append(df3_X_test)\n",
    "Xtest=Xtest.append(df4_X_test)\n",
    "Xtest=Xtest.append(df5_X_test)\n",
    "Xtest=Xtest.append(df6_X_test)\n",
    "Xtest=Xtest.append(df7_X_test)\n",
    "Xtest=Xtest.append(df8_X_test)\n",
    "Xtest=Xtest.append(df9_X_test)\n",
    "print(Xtest.shape)\n",
    "\n",
    "ytest=df1_y_test\n",
    "ytest=ytest.append(df2_y_test)\n",
    "ytest=ytest.append(df3_y_test)\n",
    "ytest=ytest.append(df4_y_test)\n",
    "ytest=ytest.append(df5_y_test)\n",
    "ytest=ytest.append(df6_y_test)\n",
    "ytest=ytest.append(df7_y_test)\n",
    "ytest=ytest.append(df8_y_test)\n",
    "ytest=ytest.append(df9_y_test)\n",
    "print(ytest.shape)"
   ]
  },
  {
   "cell_type": "code",
   "execution_count": 9,
   "metadata": {},
   "outputs": [
    {
     "data": {
      "text/html": [
       "<div>\n",
       "<style scoped>\n",
       "    .dataframe tbody tr th:only-of-type {\n",
       "        vertical-align: middle;\n",
       "    }\n",
       "\n",
       "    .dataframe tbody tr th {\n",
       "        vertical-align: top;\n",
       "    }\n",
       "\n",
       "    .dataframe thead th {\n",
       "        text-align: right;\n",
       "    }\n",
       "</style>\n",
       "<table border=\"1\" class=\"dataframe\">\n",
       "  <thead>\n",
       "    <tr style=\"text-align: right;\">\n",
       "      <th></th>\n",
       "      <th>time</th>\n",
       "      <th>acc_x</th>\n",
       "      <th>acc_y</th>\n",
       "      <th>acc_z</th>\n",
       "      <th>gyr_x</th>\n",
       "      <th>gyr_y</th>\n",
       "      <th>gyr_z</th>\n",
       "      <th>mag_x</th>\n",
       "      <th>mag_y</th>\n",
       "      <th>mag_z</th>\n",
       "      <th>label</th>\n",
       "    </tr>\n",
       "  </thead>\n",
       "  <tbody>\n",
       "    <tr>\n",
       "      <th>160506</th>\n",
       "      <td>1628067100</td>\n",
       "      <td>-0.456055</td>\n",
       "      <td>0.795898</td>\n",
       "      <td>0.430664</td>\n",
       "      <td>0.793457</td>\n",
       "      <td>-2.685547</td>\n",
       "      <td>-15.502930</td>\n",
       "      <td>-459.0</td>\n",
       "      <td>142.5</td>\n",
       "      <td>123.0</td>\n",
       "      <td>9</td>\n",
       "    </tr>\n",
       "    <tr>\n",
       "      <th>192235</th>\n",
       "      <td>1628099097</td>\n",
       "      <td>-0.537598</td>\n",
       "      <td>0.782227</td>\n",
       "      <td>-0.300293</td>\n",
       "      <td>0.793457</td>\n",
       "      <td>0.244141</td>\n",
       "      <td>-0.671387</td>\n",
       "      <td>-415.5</td>\n",
       "      <td>123.0</td>\n",
       "      <td>604.5</td>\n",
       "      <td>9</td>\n",
       "    </tr>\n",
       "    <tr>\n",
       "      <th>32525</th>\n",
       "      <td>1628414064</td>\n",
       "      <td>0.218750</td>\n",
       "      <td>0.700195</td>\n",
       "      <td>-0.652832</td>\n",
       "      <td>-0.793457</td>\n",
       "      <td>-0.854492</td>\n",
       "      <td>-0.122070</td>\n",
       "      <td>-471.0</td>\n",
       "      <td>1207.5</td>\n",
       "      <td>630.0</td>\n",
       "      <td>9</td>\n",
       "    </tr>\n",
       "    <tr>\n",
       "      <th>329276</th>\n",
       "      <td>1628104358</td>\n",
       "      <td>-0.456543</td>\n",
       "      <td>0.832031</td>\n",
       "      <td>0.302246</td>\n",
       "      <td>1.281738</td>\n",
       "      <td>-1.831055</td>\n",
       "      <td>-0.854492</td>\n",
       "      <td>-658.5</td>\n",
       "      <td>1026.0</td>\n",
       "      <td>330.0</td>\n",
       "      <td>9</td>\n",
       "    </tr>\n",
       "    <tr>\n",
       "      <th>218378</th>\n",
       "      <td>1628098647</td>\n",
       "      <td>-0.477539</td>\n",
       "      <td>0.552734</td>\n",
       "      <td>-0.657227</td>\n",
       "      <td>0.366211</td>\n",
       "      <td>-2.990723</td>\n",
       "      <td>-1.098633</td>\n",
       "      <td>-495.0</td>\n",
       "      <td>997.5</td>\n",
       "      <td>598.5</td>\n",
       "      <td>9</td>\n",
       "    </tr>\n",
       "  </tbody>\n",
       "</table>\n",
       "</div>"
      ],
      "text/plain": [
       "              time     acc_x     acc_y     acc_z     gyr_x     gyr_y  \\\n",
       "160506  1628067100 -0.456055  0.795898  0.430664  0.793457 -2.685547   \n",
       "192235  1628099097 -0.537598  0.782227 -0.300293  0.793457  0.244141   \n",
       "32525   1628414064  0.218750  0.700195 -0.652832 -0.793457 -0.854492   \n",
       "329276  1628104358 -0.456543  0.832031  0.302246  1.281738 -1.831055   \n",
       "218378  1628098647 -0.477539  0.552734 -0.657227  0.366211 -2.990723   \n",
       "\n",
       "            gyr_z  mag_x   mag_y  mag_z  label  \n",
       "160506 -15.502930 -459.0   142.5  123.0      9  \n",
       "192235  -0.671387 -415.5   123.0  604.5      9  \n",
       "32525   -0.122070 -471.0  1207.5  630.0      9  \n",
       "329276  -0.854492 -658.5  1026.0  330.0      9  \n",
       "218378  -1.098633 -495.0   997.5  598.5      9  "
      ]
     },
     "execution_count": 9,
     "metadata": {},
     "output_type": "execute_result"
    }
   ],
   "source": [
    "test=Xtest\n",
    "test['label']=ytest\n",
    "test.tail()\n",
    "## final data frame for testing"
   ]
  },
  {
   "cell_type": "markdown",
   "metadata": {},
   "source": [
    "# EDA"
   ]
  },
  {
   "cell_type": "code",
   "execution_count": 10,
   "metadata": {},
   "outputs": [
    {
     "data": {
      "text/plain": [
       "(490541, 11)"
      ]
     },
     "execution_count": 10,
     "metadata": {},
     "output_type": "execute_result"
    }
   ],
   "source": [
    "sampleTrain=train.sample(frac=0.05,random_state=42)\n",
    "sampleTrain.shape\n",
    "#since training data is very large we would be using sample of training data to train our dataset."
   ]
  },
  {
   "cell_type": "markdown",
   "metadata": {},
   "source": [
    "#### eda using sweetviz lib"
   ]
  },
  {
   "cell_type": "code",
   "execution_count": 11,
   "metadata": {},
   "outputs": [
    {
     "data": {
      "application/vnd.jupyter.widget-view+json": {
       "model_id": "0b5f2bc819c34ceab2cc1545dc4f2f66",
       "version_major": 2,
       "version_minor": 0
      },
      "text/plain": [
       "                                             |                                             | [  0%]   00:00 ->…"
      ]
     },
     "metadata": {},
     "output_type": "display_data"
    }
   ],
   "source": [
    "my_report = sweetviz.analyze(train)"
   ]
  },
  {
   "cell_type": "code",
   "execution_count": 12,
   "metadata": {},
   "outputs": [
    {
     "name": "stdout",
     "output_type": "stream",
     "text": [
      "Report SWEETVIZ_REPORT.html was generated! NOTEBOOK/COLAB USERS: the web browser MAY not pop up, regardless, the report IS saved in your notebook/colab files.\n"
     ]
    }
   ],
   "source": [
    "my_report.show_html()\n",
    "### run this cell to see the eda"
   ]
  },
  {
   "cell_type": "code",
   "execution_count": 13,
   "metadata": {},
   "outputs": [],
   "source": [
    "X=sampleTrain[['time', 'acc_x', 'acc_y', 'acc_z', 'gyr_x', 'gyr_y', 'gyr_z', 'mag_x','mag_y', 'mag_z']]\n",
    "y=sampleTrain['label']"
   ]
  },
  {
   "cell_type": "markdown",
   "metadata": {},
   "source": [
    "##### Now we have X,y to train out data."
   ]
  },
  {
   "cell_type": "markdown",
   "metadata": {},
   "source": [
    "## Train the Random forest Classifier for sample Train dataset"
   ]
  },
  {
   "cell_type": "code",
   "execution_count": 14,
   "metadata": {},
   "outputs": [
    {
     "data": {
      "text/plain": [
       "RandomForestClassifier()"
      ]
     },
     "execution_count": 14,
     "metadata": {},
     "output_type": "execute_result"
    }
   ],
   "source": [
    "from sklearn.ensemble import RandomForestClassifier\n",
    "rf=RandomForestClassifier()\n",
    "rf.fit(X,y)"
   ]
  },
  {
   "cell_type": "code",
   "execution_count": 15,
   "metadata": {},
   "outputs": [],
   "source": [
    "sampleTest=test.sample(frac=0.2,random_state=42)\n",
    "#Our testing data is very large so we are taking sample of it test out model."
   ]
  },
  {
   "cell_type": "code",
   "execution_count": 16,
   "metadata": {},
   "outputs": [],
   "source": [
    "X_test=sampleTest[['time', 'acc_x', 'acc_y', 'acc_z', 'gyr_x', 'gyr_y', 'gyr_z', 'mag_x','mag_y', 'mag_z']]\n",
    "y_test=sampleTest['label']"
   ]
  },
  {
   "cell_type": "code",
   "execution_count": 17,
   "metadata": {},
   "outputs": [],
   "source": [
    "y_pred=rf.predict(X_test)"
   ]
  },
  {
   "cell_type": "markdown",
   "metadata": {},
   "source": [
    "### accuracy and f1 score measurement"
   ]
  },
  {
   "cell_type": "code",
   "execution_count": 21,
   "metadata": {},
   "outputs": [],
   "source": [
    "from sklearn.metrics import f1_score"
   ]
  },
  {
   "cell_type": "code",
   "execution_count": 22,
   "metadata": {},
   "outputs": [],
   "source": [
    "score = f1_score(y_pred=y_pred, y_true=y_test,average='micro')"
   ]
  },
  {
   "cell_type": "code",
   "execution_count": 23,
   "metadata": {},
   "outputs": [
    {
     "name": "stdout",
     "output_type": "stream",
     "text": [
      "0.9858605379355896\n"
     ]
    }
   ],
   "source": [
    "print(score)"
   ]
  },
  {
   "cell_type": "raw",
   "metadata": {},
   "source": [
    "f1 score for the test data set is more than 98% that surpass our target of 85%"
   ]
  },
  {
   "cell_type": "markdown",
   "metadata": {},
   "source": [
    "### Saving model"
   ]
  },
  {
   "cell_type": "code",
   "execution_count": 24,
   "metadata": {},
   "outputs": [],
   "source": [
    "import pickle\n",
    "filename = 'finalized_model'\n",
    "pickle.dump(rf, open(filename, 'wb'))"
   ]
  },
  {
   "cell_type": "code",
   "execution_count": null,
   "metadata": {},
   "outputs": [],
   "source": []
  }
 ],
 "metadata": {
  "kernelspec": {
   "display_name": "Python 3",
   "language": "python",
   "name": "python3"
  },
  "language_info": {
   "codemirror_mode": {
    "name": "ipython",
    "version": 3
   },
   "file_extension": ".py",
   "mimetype": "text/x-python",
   "name": "python",
   "nbconvert_exporter": "python",
   "pygments_lexer": "ipython3",
   "version": "3.8.3"
  }
 },
 "nbformat": 4,
 "nbformat_minor": 4
}
